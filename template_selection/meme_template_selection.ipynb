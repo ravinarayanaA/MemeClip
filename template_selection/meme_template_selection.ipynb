{
 "nbformat": 4,
 "nbformat_minor": 0,
 "metadata": {
  "colab": {
   "name": "Untitled0.ipynb",
   "provenance": [],
   "collapsed_sections": []
  },
  "kernelspec": {
   "name": "python3",
   "display_name": "Python 3"
  },
  "accelerator": "GPU"
 },
 "cells": [
  {
   "cell_type": "code",
   "metadata": {
    "id": "U1xe-dEUjzyd",
    "outputId": "b6656bd1-5613-4507-e0fb-3ad8e879b895",
    "colab": {
     "base_uri": "https://localhost:8080/"
    }
   },
   "source": [
    "from google.colab import drive\n",
    "\n",
    "drive.mount('/content/gdrive')"
   ],
   "execution_count": 2,
   "outputs": [
    {
     "output_type": "stream",
     "text": [
      "Mounted at /content/gdrive\n"
     ],
     "name": "stdout"
    }
   ]
  },
  {
   "cell_type": "code",
   "metadata": {
    "id": "L12bijWDkUGr",
    "outputId": "60e1e978-66d6-4f0a-f52c-0da4e5ec1dc6",
    "colab": {
     "base_uri": "https://localhost:8080/"
    }
   },
   "source": [
    "cd gdrive/My Drive/memedata/memes900k"
   ],
   "execution_count": 3,
   "outputs": [
    {
     "output_type": "stream",
     "text": [
      "/content/gdrive/My Drive/memedata/memes900k\n"
     ],
     "name": "stdout"
    }
   ]
  },
  {
   "cell_type": "code",
   "metadata": {
    "id": "lfH1hY1bkpyF",
    "outputId": "a7844b3d-5aad-410c-831a-a47b38fc12d5",
    "colab": {
     "base_uri": "https://localhost:8080/"
    }
   },
   "source": [
    "!pip install transformers"
   ],
   "execution_count": 4,
   "outputs": [
    {
     "output_type": "stream",
     "text": [
      "Collecting transformers\n",
      "\u001B[?25l  Downloading https://files.pythonhosted.org/packages/2c/4e/4f1ede0fd7a36278844a277f8d53c21f88f37f3754abf76a5d6224f76d4a/transformers-3.4.0-py3-none-any.whl (1.3MB)\n",
      "\u001B[K     |████████████████████████████████| 1.3MB 11.1MB/s \n",
      "\u001B[?25hCollecting tokenizers==0.9.2\n",
      "\u001B[?25l  Downloading https://files.pythonhosted.org/packages/7c/a5/78be1a55b2ac8d6a956f0a211d372726e2b1dd2666bb537fea9b03abd62c/tokenizers-0.9.2-cp36-cp36m-manylinux1_x86_64.whl (2.9MB)\n",
      "\u001B[K     |████████████████████████████████| 2.9MB 55.6MB/s \n",
      "\u001B[?25hCollecting sacremoses\n",
      "\u001B[?25l  Downloading https://files.pythonhosted.org/packages/7d/34/09d19aff26edcc8eb2a01bed8e98f13a1537005d31e95233fd48216eed10/sacremoses-0.0.43.tar.gz (883kB)\n",
      "\u001B[K     |████████████████████████████████| 890kB 53.9MB/s \n",
      "\u001B[?25hRequirement already satisfied: packaging in /usr/local/lib/python3.6/dist-packages (from transformers) (20.4)\n",
      "Requirement already satisfied: dataclasses; python_version < \"3.7\" in /usr/local/lib/python3.6/dist-packages (from transformers) (0.7)\n",
      "Requirement already satisfied: regex!=2019.12.17 in /usr/local/lib/python3.6/dist-packages (from transformers) (2019.12.20)\n",
      "Requirement already satisfied: requests in /usr/local/lib/python3.6/dist-packages (from transformers) (2.23.0)\n",
      "Collecting sentencepiece!=0.1.92\n",
      "\u001B[?25l  Downloading https://files.pythonhosted.org/packages/e5/2d/6d4ca4bef9a67070fa1cac508606328329152b1df10bdf31fb6e4e727894/sentencepiece-0.1.94-cp36-cp36m-manylinux2014_x86_64.whl (1.1MB)\n",
      "\u001B[K     |████████████████████████████████| 1.1MB 46.6MB/s \n",
      "\u001B[?25hRequirement already satisfied: tqdm>=4.27 in /usr/local/lib/python3.6/dist-packages (from transformers) (4.41.1)\n",
      "Requirement already satisfied: filelock in /usr/local/lib/python3.6/dist-packages (from transformers) (3.0.12)\n",
      "Requirement already satisfied: protobuf in /usr/local/lib/python3.6/dist-packages (from transformers) (3.12.4)\n",
      "Requirement already satisfied: numpy in /usr/local/lib/python3.6/dist-packages (from transformers) (1.18.5)\n",
      "Requirement already satisfied: six in /usr/local/lib/python3.6/dist-packages (from sacremoses->transformers) (1.15.0)\n",
      "Requirement already satisfied: click in /usr/local/lib/python3.6/dist-packages (from sacremoses->transformers) (7.1.2)\n",
      "Requirement already satisfied: joblib in /usr/local/lib/python3.6/dist-packages (from sacremoses->transformers) (0.17.0)\n",
      "Requirement already satisfied: pyparsing>=2.0.2 in /usr/local/lib/python3.6/dist-packages (from packaging->transformers) (2.4.7)\n",
      "Requirement already satisfied: idna<3,>=2.5 in /usr/local/lib/python3.6/dist-packages (from requests->transformers) (2.10)\n",
      "Requirement already satisfied: urllib3!=1.25.0,!=1.25.1,<1.26,>=1.21.1 in /usr/local/lib/python3.6/dist-packages (from requests->transformers) (1.24.3)\n",
      "Requirement already satisfied: chardet<4,>=3.0.2 in /usr/local/lib/python3.6/dist-packages (from requests->transformers) (3.0.4)\n",
      "Requirement already satisfied: certifi>=2017.4.17 in /usr/local/lib/python3.6/dist-packages (from requests->transformers) (2020.6.20)\n",
      "Requirement already satisfied: setuptools in /usr/local/lib/python3.6/dist-packages (from protobuf->transformers) (50.3.2)\n",
      "Building wheels for collected packages: sacremoses\n",
      "  Building wheel for sacremoses (setup.py) ... \u001B[?25l\u001B[?25hdone\n",
      "  Created wheel for sacremoses: filename=sacremoses-0.0.43-cp36-none-any.whl size=893257 sha256=ae82aad85940b2cdbcd1d2a38637206f031922cc12aebc7f85c1d01c6c71ccc7\n",
      "  Stored in directory: /root/.cache/pip/wheels/29/3c/fd/7ce5c3f0666dab31a50123635e6fb5e19ceb42ce38d4e58f45\n",
      "Successfully built sacremoses\n",
      "Installing collected packages: tokenizers, sacremoses, sentencepiece, transformers\n",
      "Successfully installed sacremoses-0.0.43 sentencepiece-0.1.94 tokenizers-0.9.2 transformers-3.4.0\n"
     ],
     "name": "stdout"
    }
   ]
  },
  {
   "cell_type": "code",
   "metadata": {
    "id": "ruzrr9jpliXI",
    "outputId": "5f37b8d0-6fea-4b65-bf44-cb7ef00459e3",
    "colab": {
     "base_uri": "https://localhost:8080/"
    }
   },
   "source": [
    "#!/usr/bin/env python\n",
    "# coding: utf-8\n",
    "import torch\n",
    "import random\n",
    "from torch.utils.data import TensorDataset, random_split, WeightedRandomSampler\n",
    "from collections import Counter\n",
    "from sklearn.model_selection import train_test_split\n",
    "from torch.utils.data import DataLoader, RandomSampler, SequentialSampler\n",
    "from transformers import BertForSequenceClassification, AdamW, BertConfig\n",
    "import numpy as np\n",
    "import time\n",
    "import datetime\n",
    "from transformers import get_linear_schedule_with_warmup\n",
    "import pandas as pd\n",
    "import matplotlib.pyplot as plt\n",
    "import seaborn as sns\n",
    "from sklearn.metrics import f1_score, accuracy_score\n",
    "\n",
    "# If there's a GPU available...\n",
    "if torch.cuda.is_available():\n",
    "    # Tell PyTorch to use the GPU.\n",
    "    device = torch.device(\"cuda\")\n",
    "    print('There are %d GPU(s) available.' % torch.cuda.device_count())\n",
    "    print('We will use the GPU:', torch.cuda.get_device_name(0))\n",
    "# If not...\n",
    "else:\n",
    "    print('No GPU available, using the CPU instead.')\n",
    "    device = torch.device(\"cpu\")\n",
    "\n",
    "# cd drive/My Drive/CSCI566_project/memes900k\n",
    "\n",
    "from transformers import BertTokenizer\n",
    "\n",
    "# Load the BERT tokenizer.\n",
    "print('Loading BERT tokenizer...')\n",
    "tokenizer = BertTokenizer.from_pretrained('bert-base-uncased', do_lower_case=True)\n"
   ],
   "execution_count": 38,
   "outputs": [
    {
     "output_type": "stream",
     "text": [
      "There are 1 GPU(s) available.\n",
      "We will use the GPU: Tesla T4\n",
      "Loading BERT tokenizer...\n"
     ],
     "name": "stdout"
    }
   ]
  },
  {
   "cell_type": "code",
   "metadata": {
    "id": "Ykrursculoxd",
    "outputId": "23f0e2fc-2c42-4d84-f96e-52a628abc894",
    "colab": {
     "base_uri": "https://localhost:8080/"
    }
   },
   "source": [
    "selected = set(['african children dancing', 'Angry Cat Meme', \"Anchorman Birthday\", \"Annoying Gamer Kid\", \"Awkward Seal\",\n",
    "            \"Black Kid\", \"burning house girl\", \"Desk Flip Rage Guy\", \"evil plan kid\", \"FU*CK THAT GUY\", \"Grumpy Cat 2\",\n",
    "            \"Grumpy Cat Santa Hat\", \"high/drunk guy\", \"Joseph Ducreux\", \"Skeptical african kid\", \"so doge\",\n",
    "            \"Success Kid\", \"Willy Wonka\", \"You shall not pass\", \"Y U No\"])\n",
    "\n",
    "x_train = []\n",
    "y_train = []\n",
    "# select from github dataset\n",
    "with open(\"captions_train.txt\") as file:\n",
    "    for line in file.readlines():\n",
    "        l, _, text = line.split('\\t')\n",
    "        if l.strip() in selected:\n",
    "            y_train.append(l.strip())\n",
    "            text = text.strip().replace('<sep>', \", \")\n",
    "            x_train.append(text)\n",
    "# x_train = x_train[:5000]\n",
    "# y_train = y_train[:5000]\n",
    "\n",
    "# select from https://imgflip.com/memetemplates\n",
    "# with open(\"memes_output.txt\") as file:\n",
    "#     for line in file.readlines():\n",
    "#         l, _, text = line.split('\\t')\n",
    "#         y_train.append(l.strip())\n",
    "#         text = text.strip().replace(';', \"[SEP]\")\n",
    "#         x_train.append(text)\n",
    "\n",
    "templates_map = dict(zip(set(y_train), range(300)))\n",
    "templates_map_reverse = dict(zip(range(300), set(y_train)))\n",
    "len(templates_map)\n",
    "\n",
    "y_train = [templates_map[i] for i in y_train if i]\n",
    "\n",
    "x_test = []\n",
    "y_test = []\n",
    "\n",
    "with open(\"captions_test.txt\") as file:\n",
    "    for line in file.readlines():\n",
    "        l, _, text = line.split('\\t')\n",
    "        if l in templates_map:\n",
    "            y_test.append(templates_map[l])\n",
    "            text = text.strip().replace('<sep>', \", \")\n",
    "            # text = text.strip()\n",
    "            x_test.append(text)\n",
    "\n",
    "set(y_test)\n",
    "# x_test = x_test[:2500]\n",
    "# y_test = y_test[:2500]\n",
    "x_val = []\n",
    "y_val = []\n",
    "\n",
    "with open(\"captions_val.txt\") as file:\n",
    "    for line in file.readlines():\n",
    "        l, _, text = line.split('\\t')\n",
    "        if l in templates_map:\n",
    "            y_val.append(templates_map[l])\n",
    "            text = text.strip().replace('<sep>', \", \")\n",
    "            # text = text.strip()\n",
    "            x_val.append(text)\n",
    "# x_val = x_val[:1000]\n",
    "# y_val = y_val[:1000]\n",
    "set(y_val)\n",
    "\n",
    "# Tokenize all of the sentences and map the tokens to their word IDs.\n",
    "input_ids = []\n",
    "attention_masks = []\n",
    "\n",
    "# For every sentence...\n",
    "for sent in x_train:\n",
    "    encoded_dict = tokenizer.encode_plus(\n",
    "        sent,  # Sentence to encode.\n",
    "        add_special_tokens=True,  # Add '[CLS]' and '[SEP]'\n",
    "        max_length=50,  # Pad & truncate all sentences.\n",
    "        pad_to_max_length=True,\n",
    "        return_attention_mask=True,  # Construct attn. masks.\n",
    "        return_tensors='pt',  # Return pytorch tensors.\n",
    "    )\n",
    "\n",
    "    # Add the encoded sentence to the list.\n",
    "    input_ids.append(encoded_dict['input_ids'])\n",
    "\n",
    "    # And its attention mask (simply differentiates padding from non-padding).\n",
    "    attention_masks.append(encoded_dict['attention_mask'])\n",
    "\n",
    "# Convert the lists into tensors.\n",
    "input_ids = torch.cat(input_ids, dim=0)\n",
    "attention_masks = torch.cat(attention_masks, dim=0)\n",
    "\n",
    "input_vals = []\n",
    "attention_masks_val = []\n",
    "# For every sentence...\n",
    "for sent in x_val:\n",
    "    encoded_dict = tokenizer.encode_plus(\n",
    "        sent,  # Sentence to encode.\n",
    "        add_special_tokens=True,  # Add '[CLS]' and '[SEP]'\n",
    "        max_length=50,  # Pad & truncate all sentences.\n",
    "        pad_to_max_length=True,\n",
    "        return_attention_mask=True,  # Construct attn. masks.\n",
    "        return_tensors='pt',  # Return pytorch tensors.\n",
    "    )\n",
    "\n",
    "    # Add the encoded sentence to the list.\n",
    "    input_vals.append(encoded_dict['input_ids'])\n",
    "\n",
    "    # And its attention mask (simply differentiates padding from non-padding).\n",
    "    attention_masks_val.append(encoded_dict['attention_mask'])\n",
    "\n",
    "# Convert the lists into tensors.\n",
    "input_vals = torch.cat(input_vals, dim=0)\n",
    "attention_masks_val = torch.cat(attention_masks_val, dim=0)\n",
    "\n",
    "print('Original: ', x_train[3])\n",
    "print('Token IDs:', input_ids[3])\n",
    "\n",
    "# Create a 85-15 train-validation split proportional to number of classes.\n",
    "\n",
    "# input_train,input_val,mask_train,mask_val,label_train,label_val = train_test_split(input_ids, attention_masks, torch.tensor(y_train), test_size=0.15, stratify=torch.tensor(y_train))\n",
    "# train_dataset = TensorDataset(input_train, mask_train, label_train)\n",
    "# val_dataset = TensorDataset(input_val, mask_val, label_val)\n",
    "train_dataset = TensorDataset(input_ids, attention_masks, torch.tensor(y_train))\n",
    "val_dataset = TensorDataset(input_vals, attention_masks_val, torch.tensor(y_val))\n",
    "# Checking whether the distribution of target is consitent across both the sets\n",
    "label_temp_list = []\n",
    "for a, b, c in train_dataset:\n",
    "    label_temp_list.append(c)\n",
    "\n",
    "# print('{:>5,} training samples'.format(train_size))\n",
    "print(Counter(list(map(int, label_temp_list))))\n",
    "\n",
    "label_temp_list = []\n",
    "for a, b, c in val_dataset:\n",
    "    label_temp_list.append(c)\n",
    "\n",
    "# print('{:>5,} validation samples'.format(val_size))\n",
    "print(Counter(list(map(int, label_temp_list))))\n",
    "\n",
    "batch_size = 32\n",
    "\n",
    "train_dataloader = DataLoader(\n",
    "    train_dataset,  # The training samples.\n",
    "    sampler=RandomSampler(train_dataset),  # Select batches randomly\n",
    "    batch_size=batch_size  # Trains with this batch size.\n",
    ")\n",
    "\n",
    "validation_dataloader = DataLoader(\n",
    "    val_dataset,  # The validation samples.\n",
    "    sampler=SequentialSampler(val_dataset),  # Pull out batches sequentially.\n",
    "    batch_size=batch_size  # Evaluate with this batch size.\n",
    ")"
   ],
   "execution_count": 15,
   "outputs": [
    {
     "output_type": "stream",
     "text": [
      "/usr/local/lib/python3.6/dist-packages/transformers/tokenization_utils_base.py:1944: FutureWarning: The `pad_to_max_length` argument is deprecated and will be removed in a future version, use `padding=True` or `padding='longest'` to pad to the longest sequence in the batch, or use `padding='max_length'` to pad to a max length. In this case, you can give a specific length with `max_length` (e.g. `max_length=45`) or leave max_length to None to pad to the maximal input size of the model (e.g. 512 for Bert).\n",
      "  FutureWarning,\n"
     ],
     "name": "stderr"
    },
    {
     "output_type": "stream",
     "text": [
      "Original:  universal remote ,  y u no work on universe?\n",
      "Token IDs: tensor([ 101, 5415, 6556, 1010, 1061, 1057, 2053, 2147, 2006, 5304, 1029,  102,\n",
      "           0,    0,    0,    0,    0,    0,    0,    0,    0,    0,    0,    0,\n",
      "           0,    0,    0,    0,    0,    0,    0,    0,    0,    0,    0,    0,\n",
      "           0,    0,    0,    0,    0,    0,    0,    0,    0,    0,    0,    0,\n",
      "           0,    0])\n",
      "Counter({13: 2500, 0: 2500, 9: 2500, 6: 2500, 19: 2500, 7: 2500, 5: 2500, 17: 2500, 14: 2500, 18: 2500, 2: 2500, 8: 2500, 10: 2500, 4: 2500, 3: 2500, 16: 2500, 11: 2500, 12: 2500, 1: 2500, 15: 2500})\n",
      "Counter({13: 250, 0: 250, 9: 250, 6: 250, 19: 250, 7: 250, 17: 250, 14: 250, 18: 250, 2: 250, 8: 250, 10: 250, 4: 250, 3: 250, 16: 250, 11: 250, 12: 250, 1: 250, 15: 250})\n"
     ],
     "name": "stdout"
    }
   ]
  },
  {
   "cell_type": "code",
   "metadata": {
    "id": "aj0jrWqtiTIr"
   },
   "source": [
    "\n",
    "\n",
    "# # Build Model\n",
    "\n",
    "class BertClassification(torch.nn.Module):\n",
    "    def __init__(self, num_labels):\n",
    "        super().__init__()\n",
    "        self.model = BertForSequenceClassification.from_pretrained(\n",
    "            \"bert-base-uncased\",\n",
    "            num_labels=num_labels,\n",
    "            output_attentions=False,\n",
    "            output_hidden_states=False\n",
    "        )\n",
    "\n",
    "    def flat_accuracy(self, preds, labels):\n",
    "        pred_flat = np.argmax(preds, axis=1).flatten()\n",
    "        labels_flat = labels.flatten()\n",
    "        return np.sum(pred_flat == labels_flat) / len(labels_flat)\n",
    "\n",
    "    def format_time(self, elapsed):\n",
    "        '''\n",
    "        Takes a time in seconds and returns a string hh:mm:ss\n",
    "        '''\n",
    "        # Round to the nearest second.\n",
    "        elapsed_rounded = int(round((elapsed)))\n",
    "        # Format as hh:mm:ss\n",
    "        return str(datetime.timedelta(seconds=elapsed_rounded))\n",
    "\n",
    "    def train(self, train_dataloader, validation_dataloader, epochs=4):\n",
    "        self.model.cuda()\n",
    "        optimizer = AdamW(self.model.parameters(),\n",
    "                          lr=7e-5,  # args.learning_rate - default is 5e-5\n",
    "                          eps=2e-8  # args.adam_epsilon  - default is 1e-8.\n",
    "                          )\n",
    "        total_steps = len(train_dataloader) * epochs\n",
    "        scheduler = get_linear_schedule_with_warmup(optimizer,\n",
    "                                                    num_warmup_steps=0,\n",
    "                                                    num_training_steps=total_steps)\n",
    "\n",
    "        seed_val = 66\n",
    "        random.seed(seed_val)\n",
    "        np.random.seed(seed_val)\n",
    "        torch.manual_seed(seed_val)\n",
    "        torch.cuda.manual_seed_all(seed_val)\n",
    "\n",
    "        self.training_stats = []\n",
    "\n",
    "        total_t0 = time.time()\n",
    "\n",
    "        for epoch_i in range(0, epochs):\n",
    "            print(\"\")\n",
    "            print('======== Epoch {:} / {:} ========'.format(epoch_i + 1, epochs))\n",
    "            print('Training...')\n",
    "\n",
    "            # Measure how long the training epoch takes.\n",
    "            t0 = time.time()\n",
    "\n",
    "            # Reset the total loss for this epoch.\n",
    "            total_train_loss = 0\n",
    "\n",
    "            self.model.train()\n",
    "\n",
    "            # For each batch of training data...\n",
    "            for step, batch in enumerate(train_dataloader):\n",
    "\n",
    "                # Progress update every 40 batches.\n",
    "                if step % 40 == 0 and not step == 0:\n",
    "                    # Calculate elapsed time in minutes.\n",
    "                    elapsed = self.format_time(time.time() - t0)\n",
    "\n",
    "                    # Report progress.\n",
    "                    print('  Batch {:>5,}  of  {:>5,}.    Elapsed: {:}.'.format(step, len(train_dataloader), elapsed))\n",
    "\n",
    "                b_input_ids = batch[0].to(device)\n",
    "                b_input_mask = batch[1].to(device)\n",
    "                b_labels = batch[2].to(device)\n",
    "\n",
    "                self.model.zero_grad()\n",
    "\n",
    "                loss, logits = self.model(b_input_ids,\n",
    "                                          token_type_ids=None,\n",
    "                                          attention_mask=b_input_mask,\n",
    "                                          labels=b_labels)\n",
    "\n",
    "                total_train_loss += loss.item()\n",
    "\n",
    "                # Perform a backward pass to calculate the gradients.\n",
    "                loss.backward()\n",
    "\n",
    "                # Clip the norm of the gradients to 1.0.\n",
    "                torch.nn.utils.clip_grad_norm_(self.model.parameters(), 1.0)\n",
    "                optimizer.step()\n",
    "                scheduler.step()\n",
    "\n",
    "            # Calculate the average loss over all of the batches.\n",
    "            avg_train_loss = total_train_loss / len(train_dataloader)\n",
    "\n",
    "            # Measure how long this epoch took.\n",
    "            training_time = self.format_time(time.time() - t0)\n",
    "\n",
    "            print(\"\")\n",
    "            print(\"  Average training loss: {0:.2f}\".format(avg_train_loss))\n",
    "            print(\"  Training epcoh took: {:}\".format(training_time))\n",
    "\n",
    "            # Validation\n",
    "\n",
    "            print(\"\")\n",
    "            print(\"Running Validation...\")\n",
    "\n",
    "            t0 = time.time()\n",
    "\n",
    "            # Put the model in evaluation mode\n",
    "            self.model.eval()\n",
    "\n",
    "            # Tracking variables\n",
    "            total_eval_accuracy = 0\n",
    "            total_eval_loss = 0\n",
    "            nb_eval_steps = 0\n",
    "\n",
    "            # Evaluate data for one epoch\n",
    "            for batch in validation_dataloader:\n",
    "                b_input_ids = batch[0].to(device)\n",
    "                b_input_mask = batch[1].to(device)\n",
    "                b_labels = batch[2].to(device)\n",
    "\n",
    "                # Tell pytorch not to bother with constructing the compute graph during\n",
    "                # the forward pass, since this is only needed for backprop (training).\n",
    "                with torch.no_grad():\n",
    "                    (loss, logits) = self.model(b_input_ids,\n",
    "                                                token_type_ids=None,\n",
    "                                                attention_mask=b_input_mask,\n",
    "                                                labels=b_labels)\n",
    "\n",
    "                # Accumulate the validation loss.\n",
    "                total_eval_loss += loss.item()\n",
    "\n",
    "                logits = logits.detach().cpu().numpy()\n",
    "                label_ids = b_labels.to('cpu').numpy()\n",
    "\n",
    "                # Calculate the accuracy for this batch of test sentences, and\n",
    "                # accumulate it over all batches.\n",
    "                total_eval_accuracy += self.flat_accuracy(logits, label_ids)\n",
    "\n",
    "            avg_val_accuracy = total_eval_accuracy / len(validation_dataloader)\n",
    "            print(\"  Accuracy: {0:.2f}\".format(avg_val_accuracy))\n",
    "\n",
    "            avg_val_loss = total_eval_loss / len(validation_dataloader)\n",
    "\n",
    "            validation_time = self.format_time(time.time() - t0)\n",
    "\n",
    "            print(\"  Validation Loss: {0:.2f}\".format(avg_val_loss))\n",
    "            print(\"  Validation took: {:}\".format(validation_time))\n",
    "\n",
    "            # Record all statistics from this epoch.\n",
    "            self.training_stats.append(\n",
    "                {\n",
    "                    'epoch': epoch_i + 1,\n",
    "                    'Training Loss': avg_train_loss,\n",
    "                    'Valid. Loss': avg_val_loss,\n",
    "                    'Valid. Accur.': avg_val_accuracy,\n",
    "                    'Training Time': training_time,\n",
    "                    'Validation Time': validation_time\n",
    "                }\n",
    "            )\n",
    "\n",
    "        print(\"\")\n",
    "        print(\"Training complete!\")\n",
    "        print(\"Total training took {:} (h:mm:ss)\".format(self.format_time(time.time() - total_t0)))\n",
    "\n",
    "    def predict(self, validation_dataloader):\n",
    "        print('Predicting labels for {:,} test sentences...'.format(len(input_ids)))\n",
    "\n",
    "        # Put model in evaluation mode\n",
    "        self.model.eval()\n",
    "\n",
    "        # Tracking variables\n",
    "        self.predictions = []\n",
    "\n",
    "        # Predict\n",
    "        for batch in validation_dataloader:\n",
    "            # Add batch to GPU\n",
    "            batch = tuple(t.to(device) for t in batch)\n",
    "\n",
    "            b_input_ids, b_input_mask, _ = batch\n",
    "\n",
    "            with torch.no_grad():\n",
    "                outputs = self.model(b_input_ids, token_type_ids=None,\n",
    "                                     attention_mask=b_input_mask)\n",
    "\n",
    "            logits = outputs[0]\n",
    "\n",
    "            # Move logits and labels to CPU\n",
    "            logits = logits.detach().cpu().numpy()\n",
    "            # label_ids = b_labels.to('cpu').numpy()\n",
    "\n",
    "            # Store predictions and true labels\n",
    "            self.predictions.append(logits)\n",
    "\n",
    "        print('    DONE.')"
   ],
   "execution_count": 16,
   "outputs": []
  },
  {
   "cell_type": "code",
   "metadata": {
    "id": "s1gbB7NGlYu3",
    "outputId": "1d170cec-26bb-40dd-f8e6-fc91a903c2ae",
    "colab": {
     "base_uri": "https://localhost:8080/",
     "height": 1000
    }
   },
   "source": [
    "bc = BertClassification(25)\n",
    "bc.train(train_dataloader, validation_dataloader, 2)\n",
    "# Get all of the model's parameters as a list of tuples.\n",
    "params = list(bc.model.named_parameters())\n",
    "print('The BERT model has {:} different named parameters.\\n'.format(len(params)))\n",
    "print('==== Embedding Layer ====\\n')\n",
    "for p in params[0:5]:\n",
    "    print(\"{:<55} {:>12}\".format(p[0], str(tuple(p[1].size()))))\n",
    "print('\\n==== First Transformer ====\\n')\n",
    "for p in params[5:21]:\n",
    "    print(\"{:<55} {:>12}\".format(p[0], str(tuple(p[1].size()))))\n",
    "print('\\n==== Output Layer ====\\n')\n",
    "for p in params[-4:]:\n",
    "    print(\"{:<55} {:>12}\".format(p[0], str(tuple(p[1].size()))))\n",
    "\n",
    "pd.set_option('precision', 2)\n",
    "df_stats = pd.DataFrame(data=bc.training_stats)\n",
    "df_stats = df_stats.set_index('epoch')\n",
    "\n",
    "sns.set(style='darkgrid')\n",
    "sns.set(font_scale=1.5)\n",
    "plt.rcParams[\"figure.figsize\"] = (12, 6)\n",
    "\n",
    "plt.plot(df_stats['Training Loss'], 'b-o', label=\"Training\")\n",
    "plt.plot(df_stats['Valid. Loss'], 'g-o', label=\"Validation\")\n",
    "\n",
    "plt.title(\"Training & Validation Loss\")\n",
    "plt.xlabel(\"Epoch\")\n",
    "plt.ylabel(\"Loss\")\n",
    "plt.legend()\n",
    "plt.xticks([1, 2, 3, 4])\n",
    "plt.show()\n"
   ],
   "execution_count": 17,
   "outputs": [
    {
     "output_type": "stream",
     "text": [
      "Some weights of the model checkpoint at bert-base-uncased were not used when initializing BertForSequenceClassification: ['cls.predictions.bias', 'cls.predictions.transform.dense.weight', 'cls.predictions.transform.dense.bias', 'cls.predictions.decoder.weight', 'cls.seq_relationship.weight', 'cls.seq_relationship.bias', 'cls.predictions.transform.LayerNorm.weight', 'cls.predictions.transform.LayerNorm.bias']\n",
      "- This IS expected if you are initializing BertForSequenceClassification from the checkpoint of a model trained on another task or with another architecture (e.g. initializing a BertForSequenceClassification model from a BertForPretraining model).\n",
      "- This IS NOT expected if you are initializing BertForSequenceClassification from the checkpoint of a model that you expect to be exactly identical (initializing a BertForSequenceClassification model from a BertForSequenceClassification model).\n",
      "Some weights of BertForSequenceClassification were not initialized from the model checkpoint at bert-base-uncased and are newly initialized: ['classifier.weight', 'classifier.bias']\n",
      "You should probably TRAIN this model on a down-stream task to be able to use it for predictions and inference.\n"
     ],
     "name": "stderr"
    },
    {
     "output_type": "stream",
     "text": [
      "\n",
      "======== Epoch 1 / 2 ========\n",
      "Training...\n",
      "  Batch    40  of  1,563.    Elapsed: 0:00:12.\n",
      "  Batch    80  of  1,563.    Elapsed: 0:00:24.\n",
      "  Batch   120  of  1,563.    Elapsed: 0:00:37.\n",
      "  Batch   160  of  1,563.    Elapsed: 0:00:49.\n",
      "  Batch   200  of  1,563.    Elapsed: 0:01:02.\n",
      "  Batch   240  of  1,563.    Elapsed: 0:01:14.\n",
      "  Batch   280  of  1,563.    Elapsed: 0:01:26.\n",
      "  Batch   320  of  1,563.    Elapsed: 0:01:38.\n",
      "  Batch   360  of  1,563.    Elapsed: 0:01:51.\n",
      "  Batch   400  of  1,563.    Elapsed: 0:02:03.\n",
      "  Batch   440  of  1,563.    Elapsed: 0:02:15.\n",
      "  Batch   480  of  1,563.    Elapsed: 0:02:28.\n",
      "  Batch   520  of  1,563.    Elapsed: 0:02:40.\n",
      "  Batch   560  of  1,563.    Elapsed: 0:02:52.\n",
      "  Batch   600  of  1,563.    Elapsed: 0:03:05.\n",
      "  Batch   640  of  1,563.    Elapsed: 0:03:17.\n",
      "  Batch   680  of  1,563.    Elapsed: 0:03:29.\n",
      "  Batch   720  of  1,563.    Elapsed: 0:03:42.\n",
      "  Batch   760  of  1,563.    Elapsed: 0:03:54.\n",
      "  Batch   800  of  1,563.    Elapsed: 0:04:06.\n",
      "  Batch   840  of  1,563.    Elapsed: 0:04:19.\n",
      "  Batch   880  of  1,563.    Elapsed: 0:04:31.\n",
      "  Batch   920  of  1,563.    Elapsed: 0:04:43.\n",
      "  Batch   960  of  1,563.    Elapsed: 0:04:55.\n",
      "  Batch 1,000  of  1,563.    Elapsed: 0:05:08.\n",
      "  Batch 1,040  of  1,563.    Elapsed: 0:05:20.\n",
      "  Batch 1,080  of  1,563.    Elapsed: 0:05:32.\n",
      "  Batch 1,120  of  1,563.    Elapsed: 0:05:44.\n",
      "  Batch 1,160  of  1,563.    Elapsed: 0:05:57.\n",
      "  Batch 1,200  of  1,563.    Elapsed: 0:06:09.\n",
      "  Batch 1,240  of  1,563.    Elapsed: 0:06:21.\n",
      "  Batch 1,280  of  1,563.    Elapsed: 0:06:34.\n",
      "  Batch 1,320  of  1,563.    Elapsed: 0:06:46.\n",
      "  Batch 1,360  of  1,563.    Elapsed: 0:06:58.\n",
      "  Batch 1,400  of  1,563.    Elapsed: 0:07:11.\n",
      "  Batch 1,440  of  1,563.    Elapsed: 0:07:23.\n",
      "  Batch 1,480  of  1,563.    Elapsed: 0:07:35.\n",
      "  Batch 1,520  of  1,563.    Elapsed: 0:07:47.\n",
      "  Batch 1,560  of  1,563.    Elapsed: 0:08:00.\n",
      "\n",
      "  Average training loss: 1.44\n",
      "  Training epcoh took: 0:08:00\n",
      "\n",
      "Running Validation...\n",
      "  Accuracy: 0.62\n",
      "  Validation Loss: 1.21\n",
      "  Validation took: 0:00:15\n",
      "\n",
      "======== Epoch 2 / 2 ========\n",
      "Training...\n",
      "  Batch    40  of  1,563.    Elapsed: 0:00:12.\n",
      "  Batch    80  of  1,563.    Elapsed: 0:00:25.\n",
      "  Batch   120  of  1,563.    Elapsed: 0:00:37.\n",
      "  Batch   160  of  1,563.    Elapsed: 0:00:49.\n",
      "  Batch   200  of  1,563.    Elapsed: 0:01:01.\n",
      "  Batch   240  of  1,563.    Elapsed: 0:01:14.\n",
      "  Batch   280  of  1,563.    Elapsed: 0:01:26.\n",
      "  Batch   320  of  1,563.    Elapsed: 0:01:38.\n",
      "  Batch   360  of  1,563.    Elapsed: 0:01:51.\n",
      "  Batch   400  of  1,563.    Elapsed: 0:02:03.\n",
      "  Batch   440  of  1,563.    Elapsed: 0:02:15.\n",
      "  Batch   480  of  1,563.    Elapsed: 0:02:27.\n",
      "  Batch   520  of  1,563.    Elapsed: 0:02:40.\n",
      "  Batch   560  of  1,563.    Elapsed: 0:02:52.\n",
      "  Batch   600  of  1,563.    Elapsed: 0:03:04.\n",
      "  Batch   640  of  1,563.    Elapsed: 0:03:17.\n",
      "  Batch   680  of  1,563.    Elapsed: 0:03:29.\n",
      "  Batch   720  of  1,563.    Elapsed: 0:03:41.\n",
      "  Batch   760  of  1,563.    Elapsed: 0:03:53.\n",
      "  Batch   800  of  1,563.    Elapsed: 0:04:06.\n",
      "  Batch   840  of  1,563.    Elapsed: 0:04:18.\n",
      "  Batch   880  of  1,563.    Elapsed: 0:04:30.\n",
      "  Batch   920  of  1,563.    Elapsed: 0:04:43.\n",
      "  Batch   960  of  1,563.    Elapsed: 0:04:55.\n",
      "  Batch 1,000  of  1,563.    Elapsed: 0:05:07.\n",
      "  Batch 1,040  of  1,563.    Elapsed: 0:05:19.\n",
      "  Batch 1,080  of  1,563.    Elapsed: 0:05:32.\n",
      "  Batch 1,120  of  1,563.    Elapsed: 0:05:44.\n",
      "  Batch 1,160  of  1,563.    Elapsed: 0:05:56.\n",
      "  Batch 1,200  of  1,563.    Elapsed: 0:06:09.\n",
      "  Batch 1,240  of  1,563.    Elapsed: 0:06:21.\n",
      "  Batch 1,280  of  1,563.    Elapsed: 0:06:33.\n",
      "  Batch 1,320  of  1,563.    Elapsed: 0:06:45.\n",
      "  Batch 1,360  of  1,563.    Elapsed: 0:06:58.\n",
      "  Batch 1,400  of  1,563.    Elapsed: 0:07:10.\n",
      "  Batch 1,440  of  1,563.    Elapsed: 0:07:22.\n",
      "  Batch 1,480  of  1,563.    Elapsed: 0:07:34.\n",
      "  Batch 1,520  of  1,563.    Elapsed: 0:07:47.\n",
      "  Batch 1,560  of  1,563.    Elapsed: 0:07:59.\n",
      "\n",
      "  Average training loss: 0.91\n",
      "  Training epcoh took: 0:08:00\n",
      "\n",
      "Running Validation...\n",
      "  Accuracy: 0.64\n",
      "  Validation Loss: 1.16\n",
      "  Validation took: 0:00:15\n",
      "\n",
      "Training complete!\n",
      "Total training took 0:16:30 (h:mm:ss)\n",
      "The BERT model has 201 different named parameters.\n",
      "\n",
      "==== Embedding Layer ====\n",
      "\n",
      "bert.embeddings.word_embeddings.weight                  (30522, 768)\n",
      "bert.embeddings.position_embeddings.weight                (512, 768)\n",
      "bert.embeddings.token_type_embeddings.weight                (2, 768)\n",
      "bert.embeddings.LayerNorm.weight                              (768,)\n",
      "bert.embeddings.LayerNorm.bias                                (768,)\n",
      "\n",
      "==== First Transformer ====\n",
      "\n",
      "bert.encoder.layer.0.attention.self.query.weight          (768, 768)\n",
      "bert.encoder.layer.0.attention.self.query.bias                (768,)\n",
      "bert.encoder.layer.0.attention.self.key.weight            (768, 768)\n",
      "bert.encoder.layer.0.attention.self.key.bias                  (768,)\n",
      "bert.encoder.layer.0.attention.self.value.weight          (768, 768)\n",
      "bert.encoder.layer.0.attention.self.value.bias                (768,)\n",
      "bert.encoder.layer.0.attention.output.dense.weight        (768, 768)\n",
      "bert.encoder.layer.0.attention.output.dense.bias              (768,)\n",
      "bert.encoder.layer.0.attention.output.LayerNorm.weight        (768,)\n",
      "bert.encoder.layer.0.attention.output.LayerNorm.bias          (768,)\n",
      "bert.encoder.layer.0.intermediate.dense.weight           (3072, 768)\n",
      "bert.encoder.layer.0.intermediate.dense.bias                 (3072,)\n",
      "bert.encoder.layer.0.output.dense.weight                 (768, 3072)\n",
      "bert.encoder.layer.0.output.dense.bias                        (768,)\n",
      "bert.encoder.layer.0.output.LayerNorm.weight                  (768,)\n",
      "bert.encoder.layer.0.output.LayerNorm.bias                    (768,)\n",
      "\n",
      "==== Output Layer ====\n",
      "\n",
      "bert.pooler.dense.weight                                  (768, 768)\n",
      "bert.pooler.dense.bias                                        (768,)\n",
      "classifier.weight                                          (25, 768)\n",
      "classifier.bias                                                (25,)\n"
     ],
     "name": "stdout"
    },
    {
     "output_type": "display_data",
     "data": {
      "image/png": "[encoded data removed]",
      "text/plain": [
       "<Figure size 864x432 with 1 Axes>"
      ]
     },
     "metadata": {
      "tags": []
     }
    }
   ]
  },
  {
   "cell_type": "code",
   "metadata": {
    "id": "gs-jg76ilReQ",
    "outputId": "bcf0f149-a2c2-4cd0-d845-1031e8300fef",
    "colab": {
     "base_uri": "https://localhost:8080/",
     "height": 302
    }
   },
   "source": [
    "# # Predict\n",
    "\n",
    "input_ids = []\n",
    "attention_masks = []\n",
    "\n",
    "# For every sentence...\n",
    "for sent in x_test:\n",
    "    encoded_dict = tokenizer.encode_plus(\n",
    "        sent,  # Sentence to encode.\n",
    "        add_special_tokens=True,  # Add '[CLS]' and '[SEP]'\n",
    "        max_length=50,  # Pad & truncate all sentences.\n",
    "        pad_to_max_length=True,\n",
    "        return_attention_mask=True,  # Construct attn. masks.\n",
    "        return_tensors='pt',  # Return pytorch tensors.\n",
    "    )\n",
    "    # Add the encoded sentence to the list.\n",
    "    input_ids.append(encoded_dict['input_ids'])\n",
    "    # And its attention mask (simply differentiates padding from non-padding).\n",
    "    attention_masks.append(encoded_dict['attention_mask'])\n",
    "\n",
    "# Convert the lists into tensors.\n",
    "input_ids = torch.cat(input_ids, dim=0)\n",
    "attention_masks = torch.cat(attention_masks, dim=0)\n",
    "# labels = torch.tensor(labels)\n",
    "\n",
    "# Set the batch size.\n",
    "batch_size = 32\n",
    "\n",
    "# Create the DataLoader.\n",
    "prediction_data = TensorDataset(input_ids, attention_masks, torch.tensor(y_test))\n",
    "# prediction_data = TensorDataset(input_ids, attention_masks)\n",
    "prediction_sampler = SequentialSampler(prediction_data)\n",
    "prediction_dataloader = DataLoader(prediction_data, sampler=prediction_sampler, batch_size=batch_size)\n",
    "\n",
    "bc.predict(prediction_dataloader)\n",
    "\n",
    "prediction_label = []\n",
    "for p in bc.predictions:\n",
    "    prediction_label.extend(p.argmax(axis=1))\n",
    "\n",
    "f1_score(y_test, prediction_label, average='weighted')"
   ],
   "execution_count": 39,
   "outputs": [
    {
     "output_type": "stream",
     "text": [
      "Truncation was not explicitely activated but `max_length` is provided a specific value, please use `truncation=True` to explicitely truncate examples to max length. Defaulting to 'longest_first' truncation strategy. If you encode pairs of sequences (GLUE-style) with the tokenizer you can select this strategy more precisely by providing a specific strategy to `truncation`.\n",
      "/usr/local/lib/python3.6/dist-packages/transformers/tokenization_utils_base.py:1944: FutureWarning: The `pad_to_max_length` argument is deprecated and will be removed in a future version, use `padding=True` or `padding='longest'` to pad to the longest sequence in the batch, or use `padding='max_length'` to pad to a max length. In this case, you can give a specific length with `max_length` (e.g. `max_length=45`) or leave max_length to None to pad to the maximal input size of the model (e.g. 512 for Bert).\n",
      "  FutureWarning,\n"
     ],
     "name": "stderr"
    },
    {
     "output_type": "stream",
     "text": [
      "Predicting labels for 4,750 test sentences...\n",
      "    DONE.\n"
     ],
     "name": "stdout"
    },
    {
     "output_type": "error",
     "ename": "TypeError",
     "evalue": "ignored",
     "traceback": [
      "\u001B[0;31m---------------------------------------------------------------------------\u001B[0m",
      "\u001B[0;31mTypeError\u001B[0m                                 Traceback (most recent call last)",
      "\u001B[0;32m<ipython-input-39-fd623e333a17>\u001B[0m in \u001B[0;36m<module>\u001B[0;34m()\u001B[0m\n\u001B[1;32m     40\u001B[0m \u001B[0;34m\u001B[0m\u001B[0m\n\u001B[1;32m     41\u001B[0m \u001B[0mf1_score\u001B[0m\u001B[0;34m(\u001B[0m\u001B[0my_test\u001B[0m\u001B[0;34m,\u001B[0m \u001B[0mprediction_label\u001B[0m\u001B[0;34m,\u001B[0m \u001B[0maverage\u001B[0m\u001B[0;34m=\u001B[0m\u001B[0;34m'weighted'\u001B[0m\u001B[0;34m)\u001B[0m\u001B[0;34m\u001B[0m\u001B[0;34m\u001B[0m\u001B[0m\n\u001B[0;32m---> 42\u001B[0;31m \u001B[0maccuracy_score\u001B[0m\u001B[0;34m(\u001B[0m\u001B[0my_test\u001B[0m\u001B[0;34m,\u001B[0m \u001B[0mprediction_label\u001B[0m\u001B[0;34m,\u001B[0m \u001B[0maverage\u001B[0m\u001B[0;34m=\u001B[0m\u001B[0;34m'weighted'\u001B[0m\u001B[0;34m)\u001B[0m\u001B[0;34m\u001B[0m\u001B[0;34m\u001B[0m\u001B[0m\n\u001B[0m",
      "\u001B[0;31mTypeError\u001B[0m: accuracy_score() got an unexpected keyword argument 'average'"
     ]
    }
   ]
  },
  {
   "cell_type": "code",
   "execution_count": null,
   "outputs": [],
   "source": [
    "accuracy_score(y_test, prediction_label)"
   ],
   "metadata": {
    "collapsed": false,
    "pycharm": {
     "name": "#%%\n"
    }
   }
  },
  {
   "cell_type": "code",
   "execution_count": null,
   "outputs": [],
   "source": [
    "from sklearn.metrics import precision_score\n",
    "precision_score(y_test, prediction_label, average='weighted')"
   ],
   "metadata": {
    "collapsed": false,
    "pycharm": {
     "name": "#%%\n"
    }
   }
  },
  {
   "cell_type": "code",
   "metadata": {
    "id": "Km8whS8_2-8x",
    "outputId": "7b2f2e30-f8c8-406d-9e17-1224196ae048",
    "colab": {
     "base_uri": "https://localhost:8080/"
    }
   },
   "source": [
    "\n",
    "# test_sent = \"eating dinner with a friend's family, family leaves for a few minutes\"\n",
    "# test_sent = \"at a sleepover in a friend's house first one to wake up\"\n",
    "test_sent = \"i am not angry i'm happiness challenged\"\n",
    "encoded_dict = tokenizer.encode_plus(\n",
    "        test_sent,  # Sentence to encode.\n",
    "        add_special_tokens=True,  # Add '[CLS]' and '[SEP]'\n",
    "        max_length=50,  # Pad & truncate all sentences.\n",
    "        pad_to_max_length=True,\n",
    "        return_attention_mask=True,  # Construct attn. masks.\n",
    "        return_tensors='pt',  # Return pytorch tensors.\n",
    "    )\n",
    "test_single = TensorDataset(torch.cat([encoded_dict['input_ids']], dim=0),torch.cat([encoded_dict['attention_mask']], dim=0),torch.tensor([1]))\n",
    "loader_data = DataLoader(test_single)\n",
    "bc.predict(loader_data)\n",
    "prediction_label = []\n",
    "for p in bc.predictions:\n",
    "    print(templates_map_reverse[p.argmax(axis=1)[0]])"
   ],
   "execution_count": 40,
   "outputs": [
    {
     "output_type": "execute_result",
     "data": {
      "text/plain": [
       "0.6381052631578947"
      ]
     },
     "metadata": {
      "tags": []
     },
     "execution_count": 40
    }
   ]
  },
  {
   "cell_type": "code",
   "metadata": {
    "id": "tUnWZLgc3EU6",
    "outputId": "9321f87d-2cf2-40da-89f1-2f787988c538",
    "colab": {
     "base_uri": "https://localhost:8080/"
    }
   },
   "source": [
    "from sklearn.metrics import precision_score\n",
    "precision_score(y_test, prediction_label, average='weighted')"
   ],
   "execution_count": 42,
   "outputs": [
    {
     "output_type": "execute_result",
     "data": {
      "text/plain": [
       "0.645603938097743"
      ]
     },
     "metadata": {
      "tags": []
     },
     "execution_count": 42
    }
   ]
  },
  {
   "cell_type": "code",
   "metadata": {
    "id": "MW_apjcwsmxL",
    "outputId": "14699f5f-cf8a-4d8b-e925-5af03640c302",
    "colab": {
     "base_uri": "https://localhost:8080/"
    }
   },
   "source": [
    "\n",
    "# test_sent = \"eating dinner with a friend's family, family leaves for a few minutes\"\n",
    "# test_sent = \"at a sleepover in a friend's house first one to wake up\"\n",
    "test_sent = \"i am not angry i'm happiness challenged\"\n",
    "encoded_dict = tokenizer.encode_plus(\n",
    "        test_sent,  # Sentence to encode.\n",
    "        add_special_tokens=True,  # Add '[CLS]' and '[SEP]'\n",
    "        max_length=50,  # Pad & truncate all sentences.\n",
    "        pad_to_max_length=True,\n",
    "        return_attention_mask=True,  # Construct attn. masks.\n",
    "        return_tensors='pt',  # Return pytorch tensors.\n",
    "    )\n",
    "test_single = TensorDataset(torch.cat([encoded_dict['input_ids']], dim=0),torch.cat([encoded_dict['attention_mask']], dim=0),torch.tensor([1]))\n",
    "loader_data = DataLoader(test_single)\n",
    "bc.predict(loader_data)\n",
    "prediction_label = []\n",
    "for p in bc.predictions:\n",
    "    print(templates_map_reverse[p.argmax(axis=1)[0]])"
   ],
   "execution_count": 35,
   "outputs": [
    {
     "output_type": "stream",
     "text": [
      "Predicting labels for 4,750 test sentences...\n",
      "    DONE.\n",
      "Grumpy Cat 2\n"
     ],
     "name": "stdout"
    },
    {
     "output_type": "stream",
     "text": [
      "/usr/local/lib/python3.6/dist-packages/transformers/tokenization_utils_base.py:1944: FutureWarning: The `pad_to_max_length` argument is deprecated and will be removed in a future version, use `padding=True` or `padding='longest'` to pad to the longest sequence in the batch, or use `padding='max_length'` to pad to a max length. In this case, you can give a specific length with `max_length` (e.g. `max_length=45`) or leave max_length to None to pad to the maximal input size of the model (e.g. 512 for Bert).\n",
      "  FutureWarning,\n"
     ],
     "name": "stderr"
    }
   ]
  },
  {
   "cell_type": "code",
   "metadata": {
    "id": "9r8E55tyx-_j",
    "outputId": "26ef32df-8f0c-4ef1-d719-58ebf68f407c",
    "colab": {
     "base_uri": "https://localhost:8080/"
    }
   },
   "source": [
    "print(len(selected))"
   ],
   "execution_count": 36,
   "outputs": [
    {
     "output_type": "stream",
     "text": [
      "20\n"
     ],
     "name": "stdout"
    }
   ]
  }
 ]
}