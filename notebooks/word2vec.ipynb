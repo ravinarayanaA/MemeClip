{
 "cells": [
  {
   "cell_type": "code",
   "execution_count": 2,
   "metadata": {
    "colab": {
     "base_uri": "https://localhost:8080/"
    },
    "id": "6WoWxQ2T5p_E",
    "outputId": "28044356-01a5-4bef-89bc-41071ef76c54"
   },
   "outputs": [
    {
     "name": "stdout",
     "output_type": "stream",
     "text": [
      "Requirement already satisfied: nltk in /usr/local/lib/python3.6/dist-packages (3.2.5)\n",
      "Requirement already satisfied: six in /usr/local/lib/python3.6/dist-packages (from nltk) (1.15.0)\n",
      "Requirement already satisfied: gensim in /usr/local/lib/python3.6/dist-packages (3.6.0)\n",
      "Requirement already satisfied: numpy>=1.11.3 in /usr/local/lib/python3.6/dist-packages (from gensim) (1.18.5)\n",
      "Requirement already satisfied: scipy>=0.18.1 in /usr/local/lib/python3.6/dist-packages (from gensim) (1.4.1)\n",
      "Requirement already satisfied: six>=1.5.0 in /usr/local/lib/python3.6/dist-packages (from gensim) (1.15.0)\n",
      "Requirement already satisfied: smart-open>=1.2.1 in /usr/local/lib/python3.6/dist-packages (from gensim) (3.0.0)\n",
      "Requirement already satisfied: requests in /usr/local/lib/python3.6/dist-packages (from smart-open>=1.2.1->gensim) (2.23.0)\n",
      "Requirement already satisfied: idna<3,>=2.5 in /usr/local/lib/python3.6/dist-packages (from requests->smart-open>=1.2.1->gensim) (2.10)\n",
      "Requirement already satisfied: certifi>=2017.4.17 in /usr/local/lib/python3.6/dist-packages (from requests->smart-open>=1.2.1->gensim) (2020.6.20)\n",
      "Requirement already satisfied: urllib3!=1.25.0,!=1.25.1,<1.26,>=1.21.1 in /usr/local/lib/python3.6/dist-packages (from requests->smart-open>=1.2.1->gensim) (1.24.3)\n",
      "Requirement already satisfied: chardet<4,>=3.0.2 in /usr/local/lib/python3.6/dist-packages (from requests->smart-open>=1.2.1->gensim) (3.0.4)\n"
     ]
    }
   ],
   "source": [
    "!pip install nltk\n",
    "!pip install gensim"
   ]
  },
  {
   "cell_type": "code",
   "execution_count": 3,
   "metadata": {
    "colab": {
     "base_uri": "https://localhost:8080/"
    },
    "id": "BHyKXdUB5__l",
    "outputId": "f6598a56-8243-497c-e6f9-b35f6690e73e"
   },
   "outputs": [
    {
     "name": "stdout",
     "output_type": "stream",
     "text": [
      "/content/drive/My Drive/CSCI566_project/memes900k\n"
     ]
    }
   ],
   "source": [
    "cd drive/My Drive/CSCI566_project/memes900k"
   ]
  },
  {
   "cell_type": "code",
   "execution_count": 4,
   "metadata": {
    "id": "wgzKuVmp7t8b"
   },
   "outputs": [],
   "source": [
    "selected = ['african children dancing','Angry Cat Meme',\"Anchorman Birthday\",\"Annoying Gamer Kid\",\"Awkward Seal\",\"Black Kid\",\"burning house girl\",\"Desk Flip Rage Guy\",\"evil plan kid\",\"FU*CK THAT GUY\",\"Grumpy Cat 2\",\"Grumpy Cat Santa Hat\",\"high/drunk guy\",\"Joseph Ducreux\",\"Skeptical african kid\",\"so doge\",\"Success Kid\",\"Willy Wonka\",\"You shall not pass\",\"Y U No\"]"
   ]
  },
  {
   "cell_type": "code",
   "execution_count": 141,
   "metadata": {
    "id": "iLXzjQdJ6DgR"
   },
   "outputs": [],
   "source": [
    "x_train = []\n",
    "y_train = []\n",
    "# select from github dataset\n",
    "with open(\"captions.txt\") as file:\n",
    "  for line in file.readlines():\n",
    "    l,_,text = line.split('\\t')\n",
    "    y_train.append(l.strip())\n",
    "    text = text.strip().replace('<sep>',\"[SEP]\")\n",
    "    x_train.append(text)\n",
    "# with open(\"captions_train.txt\") as file:\n",
    "#   for line in file.readlines():\n",
    "#     l,_,text = line.split('\\t')\n",
    "#     if l.strip() in selected:\n",
    "#       y_train.append(l.strip())\n",
    "#       text = text.strip().replace('<sep>',\"\")\n",
    "#       x_train.append(text)"
   ]
  },
  {
   "cell_type": "code",
   "execution_count": 142,
   "metadata": {
    "colab": {
     "base_uri": "https://localhost:8080/"
    },
    "id": "I2q7OPZFLOuu",
    "outputId": "e20c986d-4f30-44dc-ca72-460d73385ec0"
   },
   "outputs": [
    {
     "data": {
      "text/plain": [
       "300"
      ]
     },
     "execution_count": 142,
     "metadata": {
      "tags": []
     },
     "output_type": "execute_result"
    }
   ],
   "source": [
    "templates_map = dict(zip(set(y_train),range(300)))\n",
    "templates_map_reverse = {v:k for k,v in templates_map.items()}\n",
    "len(templates_map)"
   ]
  },
  {
   "cell_type": "code",
   "execution_count": 143,
   "metadata": {
    "id": "b34qFYKULQxY"
   },
   "outputs": [],
   "source": [
    "y_train = [templates_map[i] for i in y_train if i ]"
   ]
  },
  {
   "cell_type": "code",
   "execution_count": null,
   "metadata": {
    "id": "za1CxB9R9feX"
   },
   "outputs": [],
   "source": [
    "from gensim.parsing.preprocessing import remove_stopwords\n",
    "from gensim.utils import simple_preprocess\n",
    "from gensim.parsing.porter import PorterStemmer"
   ]
  },
  {
   "cell_type": "code",
   "execution_count": null,
   "metadata": {
    "id": "4rk9GrCu9kJA"
   },
   "outputs": [],
   "source": [
    "porter_stemmer = PorterStemmer()\n",
    "def clean_text(text):\n",
    "  new = simple_preprocess(remove_stopwords(text),max_len=50)\n",
    "  new = [porter_stemmer.stem(word) for word in new]\n",
    "  return new\n"
   ]
  },
  {
   "cell_type": "code",
   "execution_count": 32,
   "metadata": {
    "id": "mscEHXTi__gn"
   },
   "outputs": [],
   "source": [
    "from keras.preprocessing.text import Tokenizer\n",
    "from keras.preprocessing.sequence import pad_sequences\n",
    "import numpy as np\n",
    "tokenizer = Tokenizer()\n"
   ]
  },
  {
   "cell_type": "code",
   "execution_count": 144,
   "metadata": {
    "id": "u2K6-2fMBHXj"
   },
   "outputs": [],
   "source": [
    "x_input = list(map(clean_text,x_train))"
   ]
  },
  {
   "cell_type": "code",
   "execution_count": 145,
   "metadata": {
    "id": "jk_Pxi0aBPc8"
   },
   "outputs": [],
   "source": [
    "tokenizer.fit_on_texts(x_input)\n",
    "x_token = tokenizer.texts_to_sequences(x_input)\n",
    "X_train_NN = pad_sequences(x_token, maxlen=50)"
   ]
  },
  {
   "cell_type": "code",
   "execution_count": 146,
   "metadata": {
    "colab": {
     "base_uri": "https://localhost:8080/"
    },
    "id": "aIvbPGLgBna8",
    "outputId": "1d50b9eb-fc56-4f9c-9744-c30eee68a1b8"
   },
   "outputs": [
    {
     "data": {
      "text/plain": [
       "array([[   0,    0,    0,    0,    0,    0,    0,    0,    0,    0,    0,\n",
       "           0,    0,    0,    0,    0,    0,    0,    0,    0,    0,    0,\n",
       "           0,    0,    0,    0,    0,    0,    0,    0,    0,    0,    0,\n",
       "           0,    0,    0,    0,    0,    0,    0,    0, 3638,    1,   53,\n",
       "          32,   18,  345, 3287,  111,  309],\n",
       "       [   0,    0,    0,    0,    0,    0,    0,    0,    0,    0,    0,\n",
       "           0,    0,    0,    0,    0,    0,    0,    0,    0,    0,    0,\n",
       "           0,    0,    0,    0,    0,    0,    0,    0,    0,    0,    0,\n",
       "           0,    0,    0,    0,    0,    0,    0,    0, 4785,    1,   53,\n",
       "          32,   18,   77,  209,    9, 1110]], dtype=int32)"
      ]
     },
     "execution_count": 146,
     "metadata": {
      "tags": []
     },
     "output_type": "execute_result"
    }
   ],
   "source": [
    "X_train_NN[:2]"
   ]
  },
  {
   "cell_type": "code",
   "execution_count": 154,
   "metadata": {
    "id": "1gqs8aFXB_W7"
   },
   "outputs": [],
   "source": [
    "num_index = len(tokenizer.word_index)\n",
    "EMBEDDING_DIM = 300"
   ]
  },
  {
   "cell_type": "code",
   "execution_count": 41,
   "metadata": {
    "id": "LX77yvBTBwtY"
   },
   "outputs": [],
   "source": [
    "# from keras.models import Sequential\n",
    "# from keras.layers import Embedding\n",
    "\n",
    "# model = Sequential()\n",
    "# model.add(Embedding(\n",
    "#   input_dim=num_index+1, \n",
    "#   output_dim=20, \n",
    "#   input_length=50))\n",
    "\n",
    "# model.compile('rmsprop', 'mse')\n",
    "# output_array = model.predict(X_train_NN)[0]"
   ]
  },
  {
   "cell_type": "code",
   "execution_count": 58,
   "metadata": {
    "id": "yLQobp4mB99a"
   },
   "outputs": [],
   "source": [
    "x_output=model.predict(X_train_NN)\n"
   ]
  },
  {
   "cell_type": "code",
   "execution_count": 147,
   "metadata": {
    "id": "SoFoGhr9Ycc3"
   },
   "outputs": [],
   "source": [
    "from sklearn.preprocessing import OneHotEncoder\n",
    "onehotencoder = OneHotEncoder()\n",
    "y_train_ohe=onehotencoder.fit_transform(np.array(y_train).reshape(-1, 1)).toarray()"
   ]
  },
  {
   "cell_type": "code",
   "execution_count": 59,
   "metadata": {
    "colab": {
     "base_uri": "https://localhost:8080/"
    },
    "id": "T0K604qrLDpM",
    "outputId": "dfae5646-aad7-4bd2-e8d6-641184415593"
   },
   "outputs": [
    {
     "data": {
      "text/plain": [
       "50000"
      ]
     },
     "execution_count": 59,
     "metadata": {
      "tags": []
     },
     "output_type": "execute_result"
    }
   ],
   "source": [
    "len(x_output)"
   ]
  },
  {
   "cell_type": "code",
   "execution_count": 148,
   "metadata": {
    "id": "SYCV3JgFE2pg"
   },
   "outputs": [],
   "source": [
    "from sklearn.model_selection import train_test_split\n",
    "from sklearn.ensemble import AdaBoostClassifier\n",
    "\n",
    "train_x, test_x, train_y, test_y = train_test_split(X_train_NN,\n",
    "                                                   y_train_ohe,\n",
    "                                                   test_size = 0.1,\n",
    "                                                   random_state = 1,stratify=y_train)"
   ]
  },
  {
   "cell_type": "code",
   "execution_count": null,
   "metadata": {
    "id": "2Tu9_l9VPVqT"
   },
   "outputs": [],
   "source": [
    "from collections import Counter\n",
    "print(Counter(train_y))\n",
    "print(Counter(test_y))"
   ]
  },
  {
   "cell_type": "code",
   "execution_count": 150,
   "metadata": {
    "id": "aG-P010QDP1z"
   },
   "outputs": [],
   "source": [
    "# Deep learning: \n",
    "from keras.models import Input, Model\n",
    "from keras.layers import LSTM, Dense, Embedding, concatenate, Dropout, concatenate\n",
    "from keras.layers import Bidirectional\n",
    "\n",
    "class RnnModel():\n",
    "    def __init__(self, num_index, output_dim, max_len,num_labels, X_additional=None):\n",
    "        \n",
    "        inp1 = Input(shape=(max_len,))\n",
    "        x = Embedding(num_index+1, output_dim=output_dim, input_length=max_len)(inp1)\n",
    "        x = LSTM(256)(x)\n",
    "        # x = Bidirectional(LSTM(256, return_sequences=True))(x)\n",
    "        # x = Bidirectional(LSTM(150))(x)\n",
    "        x = Dense(128, activation=\"relu\")(x)\n",
    "        x = Dropout(0.1)(x)\n",
    "        x = Dense(64, activation=\"relu\")(x)\n",
    "        x = Dense(num_labels, activation=\"sigmoid\")(x)    \n",
    "        model = Model(inputs=inp1, outputs=x)\n",
    "\n",
    "        model.compile(loss = 'categorical_crossentropy', optimizer = 'adam',metrics=['acc'])\n",
    "        self.model = model"
   ]
  },
  {
   "cell_type": "code",
   "execution_count": 109,
   "metadata": {
    "colab": {
     "base_uri": "https://localhost:8080/"
    },
    "id": "dWUwELCSYNX_",
    "outputId": "304b34e3-7ea3-4de6-b4fb-2c4e4bb92466"
   },
   "outputs": [
    {
     "data": {
      "text/plain": [
       "20"
      ]
     },
     "execution_count": 109,
     "metadata": {
      "tags": []
     },
     "output_type": "execute_result"
    }
   ],
   "source": [
    "len(data_whole_ohe[0])"
   ]
  },
  {
   "cell_type": "code",
   "execution_count": null,
   "metadata": {
    "id": "vRzGm8TtYEHh"
   },
   "outputs": [],
   "source": []
  },
  {
   "cell_type": "code",
   "execution_count": 155,
   "metadata": {
    "id": "dho3Ln6tM6tJ"
   },
   "outputs": [],
   "source": [
    "rnn = RnnModel(num_index,300,50,300)"
   ]
  },
  {
   "cell_type": "code",
   "execution_count": null,
   "metadata": {
    "colab": {
     "base_uri": "https://localhost:8080/"
    },
    "id": "yeD_cmR4NjAA",
    "outputId": "a9b465e2-b420-480a-c41a-626dc3dcfb9f"
   },
   "outputs": [
    {
     "name": "stdout",
     "output_type": "stream",
     "text": [
      "Epoch 1/4\n",
      " 6933/50625 [===>..........................] - ETA: 11:33:37 - loss: 4.2781 - acc: 0.1751"
     ]
    }
   ],
   "source": [
    "rnn.model.fit(\n",
    "            train_x,\n",
    "            train_y, \n",
    "            batch_size=16, \n",
    "            epochs=4,\n",
    "            validation_data=(test_x, test_y),\n",
    "        )"
   ]
  },
  {
   "cell_type": "code",
   "execution_count": 139,
   "metadata": {
    "colab": {
     "base_uri": "https://localhost:8080/"
    },
    "id": "Dldx3eeAgdDA",
    "outputId": "a8bc1645-873e-42f9-fe52-0c83abe110e4"
   },
   "outputs": [
    {
     "data": {
      "text/plain": [
       "50000"
      ]
     },
     "execution_count": 139,
     "metadata": {
      "tags": []
     },
     "output_type": "execute_result"
    }
   ],
   "source": [
    "(y_train_ohe.argmax(axis=1) == np.array(y_train)).sum()"
   ]
  },
  {
   "cell_type": "code",
   "execution_count": 118,
   "metadata": {
    "colab": {
     "base_uri": "https://localhost:8080/"
    },
    "id": "XEl8_u35d5nC",
    "outputId": "16044f6f-f924-48f4-8928-20b5d31ac0ba"
   },
   "outputs": [
    {
     "name": "stdout",
     "output_type": "stream",
     "text": [
      "157/157 [==============================] - 13s 82ms/step - loss: 1.5388 - acc: 0.5528\n"
     ]
    },
    {
     "data": {
      "text/plain": [
       "[1.5388253927230835, 0.5527999997138977]"
      ]
     },
     "execution_count": 118,
     "metadata": {
      "tags": []
     },
     "output_type": "execute_result"
    }
   ],
   "source": [
    "rnn.model.evaluate(test_x,test_y)"
   ]
  },
  {
   "cell_type": "code",
   "execution_count": 132,
   "metadata": {
    "colab": {
     "base_uri": "https://localhost:8080/"
    },
    "id": "Eapt6sW9e5bL",
    "outputId": "da5db488-ffca-45c8-a5c9-984d8a8e4255"
   },
   "outputs": [
    {
     "data": {
      "text/plain": [
       "array([[5.5675805e-03, 2.0642579e-03, 8.1730396e-02, 8.3740675e-01,\n",
       "        2.8199852e-03, 1.1036038e-02, 2.5509000e-03, 3.1282604e-03,\n",
       "        8.4766746e-04, 4.1088462e-03, 7.5268149e-03, 5.9533417e-03,\n",
       "        9.6043348e-03, 2.3640901e-02, 2.2493601e-03, 5.8844507e-02,\n",
       "        5.4475665e-04, 5.7902932e-03, 5.7570696e-02, 6.1917305e-04],\n",
       "       [3.5451710e-02, 1.6262293e-02, 5.8132410e-04, 1.0389864e-02,\n",
       "        2.6842177e-02, 2.3312151e-02, 2.4857879e-02, 5.2195489e-03,\n",
       "        6.4093471e-03, 4.7499835e-02, 1.0558933e-02, 3.1789273e-02,\n",
       "        2.7622938e-02, 2.7856678e-02, 2.5273263e-03, 2.7631462e-02,\n",
       "        6.2694025e-01, 2.4215281e-02, 1.6701937e-02, 1.5996903e-02]],\n",
       "      dtype=float32)"
      ]
     },
     "execution_count": 132,
     "metadata": {
      "tags": []
     },
     "output_type": "execute_result"
    }
   ],
   "source": [
    "rnn.model.predict(test_x[:2])"
   ]
  },
  {
   "cell_type": "code",
   "execution_count": 133,
   "metadata": {
    "colab": {
     "base_uri": "https://localhost:8080/"
    },
    "id": "EDupOs0UeLPB",
    "outputId": "548f3ca2-3712-46d3-94cb-060976d810cd"
   },
   "outputs": [
    {
     "data": {
      "text/plain": [
       "3"
      ]
     },
     "execution_count": 133,
     "metadata": {
      "tags": []
     },
     "output_type": "execute_result"
    }
   ],
   "source": [
    "np.argmax([5.5675805e-03, 2.0642579e-03, 8.1730396e-02, 8.3740675e-01,\n",
    "        2.8199852e-03, 1.1036038e-02, 2.5509000e-03, 3.1282604e-03,\n",
    "        8.4766746e-04, 4.1088462e-03, 7.5268149e-03, 5.9533417e-03,\n",
    "        9.6043348e-03, 2.3640901e-02, 2.2493601e-03, 5.8844507e-02,\n",
    "        5.4475665e-04, 5.7902932e-03, 5.7570696e-02, 6.1917305e-04])"
   ]
  }
 ],
 "metadata": {
  "colab": {
   "name": "word2vec.ipynb",
   "provenance": []
  },
  "kernelspec": {
   "display_name": "Python 3",
   "language": "python",
   "name": "python3"
  },
  "language_info": {
   "codemirror_mode": {
    "name": "ipython",
    "version": 3
   },
   "file_extension": ".py",
   "mimetype": "text/x-python",
   "name": "python",
   "nbconvert_exporter": "python",
   "pygments_lexer": "ipython3",
   "version": "3.6.12"
  }
 },
 "nbformat": 4,
 "nbformat_minor": 1
}
